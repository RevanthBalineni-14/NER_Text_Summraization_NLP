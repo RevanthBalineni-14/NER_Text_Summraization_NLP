{
  "nbformat": 4,
  "nbformat_minor": 0,
  "metadata": {
    "colab": {
      "provenance": [],
      "gpuType": "T4"
    },
    "kernelspec": {
      "name": "python3",
      "display_name": "Python 3"
    },
    "language_info": {
      "name": "python"
    },
    "accelerator": "GPU"
  },
  "cells": [
    {
      "cell_type": "code",
      "source": [
        "import gensim.downloader as api\n",
        "\n",
        "model = api.load('word2vec-google-news-300')\n",
        "\n",
        "print(\"Vector for 'Hello':\", model['Hello'])"
      ],
      "metadata": {
        "colab": {
          "base_uri": "https://localhost:8080/"
        },
        "id": "kLJ2zVH3RftW",
        "outputId": "1aab2d3c-e3ef-43af-bea5-febbeb98ffd2"
      },
      "execution_count": null,
      "outputs": [
        {
          "output_type": "stream",
          "name": "stdout",
          "text": [
            "[==================================================] 100.0% 1662.8/1662.8MB downloaded\n",
            "Vector for 'Hello': [-0.05102539  0.12060547 -0.01257324  0.03088379 -0.08544922  0.0534668\n",
            " -0.13964844 -0.16308594  0.08300781  0.20507812 -0.09423828  0.15527344\n",
            " -0.00418091  0.02111816 -0.10986328  0.22460938  0.22265625  0.15917969\n",
            "  0.05786133 -0.15527344  0.23046875  0.34765625  0.44335938 -0.14550781\n",
            "  0.15136719  0.02209473 -0.16308594  0.2578125   0.20019531  0.06054688\n",
            " -0.0222168  -0.13183594 -0.06396484 -0.12792969  0.09814453 -0.13574219\n",
            "  0.01928711  0.25195312  0.14257812  0.2421875   0.03173828 -0.17089844\n",
            "  0.26171875  0.4296875   0.24804688 -0.10351562 -0.13867188 -0.14257812\n",
            " -0.20703125 -0.00860596 -0.43359375 -0.01757812  0.40234375  0.32617188\n",
            "  0.33203125  0.01000977 -0.11523438 -0.12695312  0.01940918 -0.25390625\n",
            "  0.00393677 -0.00344849 -0.19042969  0.05419922  0.14453125 -0.0546875\n",
            " -0.11132812  0.15136719 -0.265625    0.20019531  0.14941406  0.16601562\n",
            "  0.06835938  0.00616455 -0.35742188  0.14746094  0.05761719  0.00152588\n",
            "  0.12890625  0.44921875  0.10302734  0.06225586 -0.17382812 -0.34570312\n",
            " -0.10644531 -0.07324219 -0.05566406  0.10351562  0.38867188  0.2109375\n",
            " -0.09228516 -0.02709961 -0.03320312 -0.02575684 -0.53125     0.12988281\n",
            "  0.2578125   0.06494141 -0.04394531 -0.17089844 -0.31445312 -0.09619141\n",
            " -0.109375    0.21191406  0.13183594  0.14550781  0.05151367  0.01275635\n",
            "  0.07519531  0.04345703 -0.00854492  0.22070312  0.00055695 -0.23339844\n",
            "  0.23632812 -0.05932617  0.17578125  0.26953125  0.06640625 -0.04785156\n",
            "  0.38671875 -0.00411987 -0.453125    0.06689453 -0.09326172  0.03637695\n",
            " -0.11474609  0.18066406  0.23632812 -0.11572266 -0.3203125  -0.12695312\n",
            " -0.11474609  0.10986328  0.00592041 -0.234375   -0.04931641  0.15429688\n",
            "  0.09521484  0.05395508  0.26171875  0.14160156 -0.21386719  0.00747681\n",
            "  0.12792969  0.08886719  0.09570312 -0.3203125   0.22949219 -0.296875\n",
            "  0.02844238  0.01989746  0.31054688 -0.17382812  0.05981445 -0.1875\n",
            " -0.17871094  0.18164062 -0.12792969 -0.23925781 -0.375       0.19042969\n",
            "  0.234375    0.03173828  0.14160156 -0.21875    -0.12695312 -0.03613281\n",
            " -0.19042969  0.01660156  0.33203125 -0.06445312  0.16210938 -0.16210938\n",
            " -0.20019531  0.37890625  0.04589844 -0.09423828 -0.12597656 -0.09765625\n",
            " -0.04248047 -0.1640625   0.0534668   0.26171875  0.14160156 -0.2109375\n",
            " -0.1484375   0.2578125  -0.10986328 -0.11279297 -0.05297852  0.12695312\n",
            "  0.3359375   0.12890625  0.24609375  0.09472656 -0.0703125  -0.13183594\n",
            " -0.05273438 -0.06591797  0.07324219 -0.02380371 -0.00460815  0.22363281\n",
            " -0.03662109  0.03173828 -0.23632812  0.296875   -0.09667969  0.19042969\n",
            "  0.09082031  0.13183594 -0.07226562 -0.28515625  0.12158203  0.01287842\n",
            "  0.21289062 -0.13476562 -0.08496094 -0.37695312 -0.01483154  0.30859375\n",
            " -0.09326172 -0.26367188  0.03369141 -0.02880859 -0.09082031 -0.125\n",
            " -0.50390625 -0.1640625  -0.12890625 -0.19726562 -0.36523438 -0.04370117\n",
            " -0.07519531  0.11035156  0.03149414  0.09521484  0.09033203  0.11132812\n",
            "  0.09667969  0.07275391 -0.04125977  0.07519531  0.03613281  0.05932617\n",
            "  0.16894531  0.15039062  0.06542969 -0.04956055 -0.05932617  0.08935547\n",
            "  0.08154297  0.18945312  0.00390625 -0.08154297 -0.11669922 -0.09326172\n",
            " -0.32617188 -0.16699219 -0.0559082   0.13476562  0.1328125   0.0625\n",
            "  0.07080078  0.13378906 -0.16210938  0.15917969  0.09082031 -0.06542969\n",
            " -0.08984375  0.25390625  0.19921875 -0.14160156  0.36914062  0.14453125\n",
            " -0.09130859 -0.03564453 -0.01281738 -0.046875   -0.17773438 -0.00149536\n",
            " -0.13085938  0.14355469  0.3671875  -0.17773438 -0.22558594 -0.10986328\n",
            "  0.04248047  0.16601562  0.00964355 -0.06835938 -0.11669922 -0.15136719\n",
            "  0.36132812 -0.22851562 -0.01672363 -0.26367188 -0.10742188  0.0222168 ]\n"
          ]
        }
      ]
    },
    {
      "cell_type": "code",
      "execution_count": null,
      "metadata": {
        "id": "ARbgP6vK_-q9"
      },
      "outputs": [],
      "source": [
        "import pandas as pd\n",
        "\n",
        "df  = pd.read_csv(\"/content/drive/MyDrive/ner_dataset.csv\", encoding = 'unicode_escape')"
      ]
    },
    {
      "cell_type": "code",
      "source": [
        "df.head()"
      ],
      "metadata": {
        "colab": {
          "base_uri": "https://localhost:8080/",
          "height": 206
        },
        "id": "IWU9cVDiIXTi",
        "outputId": "2bb0050e-b09a-4c1a-e191-8ae3a97ba940"
      },
      "execution_count": null,
      "outputs": [
        {
          "output_type": "execute_result",
          "data": {
            "text/plain": [
              "    Sentence #           Word  POS Tag\n",
              "0  Sentence: 1      Thousands  NNS   O\n",
              "1          NaN             of   IN   O\n",
              "2          NaN  demonstrators  NNS   O\n",
              "3          NaN           have  VBP   O\n",
              "4          NaN        marched  VBN   O"
            ],
            "text/html": [
              "\n",
              "  <div id=\"df-cf19825c-c952-45ca-bfe4-d4047804fa45\" class=\"colab-df-container\">\n",
              "    <div>\n",
              "<style scoped>\n",
              "    .dataframe tbody tr th:only-of-type {\n",
              "        vertical-align: middle;\n",
              "    }\n",
              "\n",
              "    .dataframe tbody tr th {\n",
              "        vertical-align: top;\n",
              "    }\n",
              "\n",
              "    .dataframe thead th {\n",
              "        text-align: right;\n",
              "    }\n",
              "</style>\n",
              "<table border=\"1\" class=\"dataframe\">\n",
              "  <thead>\n",
              "    <tr style=\"text-align: right;\">\n",
              "      <th></th>\n",
              "      <th>Sentence #</th>\n",
              "      <th>Word</th>\n",
              "      <th>POS</th>\n",
              "      <th>Tag</th>\n",
              "    </tr>\n",
              "  </thead>\n",
              "  <tbody>\n",
              "    <tr>\n",
              "      <th>0</th>\n",
              "      <td>Sentence: 1</td>\n",
              "      <td>Thousands</td>\n",
              "      <td>NNS</td>\n",
              "      <td>O</td>\n",
              "    </tr>\n",
              "    <tr>\n",
              "      <th>1</th>\n",
              "      <td>NaN</td>\n",
              "      <td>of</td>\n",
              "      <td>IN</td>\n",
              "      <td>O</td>\n",
              "    </tr>\n",
              "    <tr>\n",
              "      <th>2</th>\n",
              "      <td>NaN</td>\n",
              "      <td>demonstrators</td>\n",
              "      <td>NNS</td>\n",
              "      <td>O</td>\n",
              "    </tr>\n",
              "    <tr>\n",
              "      <th>3</th>\n",
              "      <td>NaN</td>\n",
              "      <td>have</td>\n",
              "      <td>VBP</td>\n",
              "      <td>O</td>\n",
              "    </tr>\n",
              "    <tr>\n",
              "      <th>4</th>\n",
              "      <td>NaN</td>\n",
              "      <td>marched</td>\n",
              "      <td>VBN</td>\n",
              "      <td>O</td>\n",
              "    </tr>\n",
              "  </tbody>\n",
              "</table>\n",
              "</div>\n",
              "    <div class=\"colab-df-buttons\">\n",
              "\n",
              "  <div class=\"colab-df-container\">\n",
              "    <button class=\"colab-df-convert\" onclick=\"convertToInteractive('df-cf19825c-c952-45ca-bfe4-d4047804fa45')\"\n",
              "            title=\"Convert this dataframe to an interactive table.\"\n",
              "            style=\"display:none;\">\n",
              "\n",
              "  <svg xmlns=\"http://www.w3.org/2000/svg\" height=\"24px\" viewBox=\"0 -960 960 960\">\n",
              "    <path d=\"M120-120v-720h720v720H120Zm60-500h600v-160H180v160Zm220 220h160v-160H400v160Zm0 220h160v-160H400v160ZM180-400h160v-160H180v160Zm440 0h160v-160H620v160ZM180-180h160v-160H180v160Zm440 0h160v-160H620v160Z\"/>\n",
              "  </svg>\n",
              "    </button>\n",
              "\n",
              "  <style>\n",
              "    .colab-df-container {\n",
              "      display:flex;\n",
              "      gap: 12px;\n",
              "    }\n",
              "\n",
              "    .colab-df-convert {\n",
              "      background-color: #E8F0FE;\n",
              "      border: none;\n",
              "      border-radius: 50%;\n",
              "      cursor: pointer;\n",
              "      display: none;\n",
              "      fill: #1967D2;\n",
              "      height: 32px;\n",
              "      padding: 0 0 0 0;\n",
              "      width: 32px;\n",
              "    }\n",
              "\n",
              "    .colab-df-convert:hover {\n",
              "      background-color: #E2EBFA;\n",
              "      box-shadow: 0px 1px 2px rgba(60, 64, 67, 0.3), 0px 1px 3px 1px rgba(60, 64, 67, 0.15);\n",
              "      fill: #174EA6;\n",
              "    }\n",
              "\n",
              "    .colab-df-buttons div {\n",
              "      margin-bottom: 4px;\n",
              "    }\n",
              "\n",
              "    [theme=dark] .colab-df-convert {\n",
              "      background-color: #3B4455;\n",
              "      fill: #D2E3FC;\n",
              "    }\n",
              "\n",
              "    [theme=dark] .colab-df-convert:hover {\n",
              "      background-color: #434B5C;\n",
              "      box-shadow: 0px 1px 3px 1px rgba(0, 0, 0, 0.15);\n",
              "      filter: drop-shadow(0px 1px 2px rgba(0, 0, 0, 0.3));\n",
              "      fill: #FFFFFF;\n",
              "    }\n",
              "  </style>\n",
              "\n",
              "    <script>\n",
              "      const buttonEl =\n",
              "        document.querySelector('#df-cf19825c-c952-45ca-bfe4-d4047804fa45 button.colab-df-convert');\n",
              "      buttonEl.style.display =\n",
              "        google.colab.kernel.accessAllowed ? 'block' : 'none';\n",
              "\n",
              "      async function convertToInteractive(key) {\n",
              "        const element = document.querySelector('#df-cf19825c-c952-45ca-bfe4-d4047804fa45');\n",
              "        const dataTable =\n",
              "          await google.colab.kernel.invokeFunction('convertToInteractive',\n",
              "                                                    [key], {});\n",
              "        if (!dataTable) return;\n",
              "\n",
              "        const docLinkHtml = 'Like what you see? Visit the ' +\n",
              "          '<a target=\"_blank\" href=https://colab.research.google.com/notebooks/data_table.ipynb>data table notebook</a>'\n",
              "          + ' to learn more about interactive tables.';\n",
              "        element.innerHTML = '';\n",
              "        dataTable['output_type'] = 'display_data';\n",
              "        await google.colab.output.renderOutput(dataTable, element);\n",
              "        const docLink = document.createElement('div');\n",
              "        docLink.innerHTML = docLinkHtml;\n",
              "        element.appendChild(docLink);\n",
              "      }\n",
              "    </script>\n",
              "  </div>\n",
              "\n",
              "\n",
              "<div id=\"df-39c89b30-7185-4139-988b-897f41f4c2b5\">\n",
              "  <button class=\"colab-df-quickchart\" onclick=\"quickchart('df-39c89b30-7185-4139-988b-897f41f4c2b5')\"\n",
              "            title=\"Suggest charts\"\n",
              "            style=\"display:none;\">\n",
              "\n",
              "<svg xmlns=\"http://www.w3.org/2000/svg\" height=\"24px\"viewBox=\"0 0 24 24\"\n",
              "     width=\"24px\">\n",
              "    <g>\n",
              "        <path d=\"M19 3H5c-1.1 0-2 .9-2 2v14c0 1.1.9 2 2 2h14c1.1 0 2-.9 2-2V5c0-1.1-.9-2-2-2zM9 17H7v-7h2v7zm4 0h-2V7h2v10zm4 0h-2v-4h2v4z\"/>\n",
              "    </g>\n",
              "</svg>\n",
              "  </button>\n",
              "\n",
              "<style>\n",
              "  .colab-df-quickchart {\n",
              "      --bg-color: #E8F0FE;\n",
              "      --fill-color: #1967D2;\n",
              "      --hover-bg-color: #E2EBFA;\n",
              "      --hover-fill-color: #174EA6;\n",
              "      --disabled-fill-color: #AAA;\n",
              "      --disabled-bg-color: #DDD;\n",
              "  }\n",
              "\n",
              "  [theme=dark] .colab-df-quickchart {\n",
              "      --bg-color: #3B4455;\n",
              "      --fill-color: #D2E3FC;\n",
              "      --hover-bg-color: #434B5C;\n",
              "      --hover-fill-color: #FFFFFF;\n",
              "      --disabled-bg-color: #3B4455;\n",
              "      --disabled-fill-color: #666;\n",
              "  }\n",
              "\n",
              "  .colab-df-quickchart {\n",
              "    background-color: var(--bg-color);\n",
              "    border: none;\n",
              "    border-radius: 50%;\n",
              "    cursor: pointer;\n",
              "    display: none;\n",
              "    fill: var(--fill-color);\n",
              "    height: 32px;\n",
              "    padding: 0;\n",
              "    width: 32px;\n",
              "  }\n",
              "\n",
              "  .colab-df-quickchart:hover {\n",
              "    background-color: var(--hover-bg-color);\n",
              "    box-shadow: 0 1px 2px rgba(60, 64, 67, 0.3), 0 1px 3px 1px rgba(60, 64, 67, 0.15);\n",
              "    fill: var(--button-hover-fill-color);\n",
              "  }\n",
              "\n",
              "  .colab-df-quickchart-complete:disabled,\n",
              "  .colab-df-quickchart-complete:disabled:hover {\n",
              "    background-color: var(--disabled-bg-color);\n",
              "    fill: var(--disabled-fill-color);\n",
              "    box-shadow: none;\n",
              "  }\n",
              "\n",
              "  .colab-df-spinner {\n",
              "    border: 2px solid var(--fill-color);\n",
              "    border-color: transparent;\n",
              "    border-bottom-color: var(--fill-color);\n",
              "    animation:\n",
              "      spin 1s steps(1) infinite;\n",
              "  }\n",
              "\n",
              "  @keyframes spin {\n",
              "    0% {\n",
              "      border-color: transparent;\n",
              "      border-bottom-color: var(--fill-color);\n",
              "      border-left-color: var(--fill-color);\n",
              "    }\n",
              "    20% {\n",
              "      border-color: transparent;\n",
              "      border-left-color: var(--fill-color);\n",
              "      border-top-color: var(--fill-color);\n",
              "    }\n",
              "    30% {\n",
              "      border-color: transparent;\n",
              "      border-left-color: var(--fill-color);\n",
              "      border-top-color: var(--fill-color);\n",
              "      border-right-color: var(--fill-color);\n",
              "    }\n",
              "    40% {\n",
              "      border-color: transparent;\n",
              "      border-right-color: var(--fill-color);\n",
              "      border-top-color: var(--fill-color);\n",
              "    }\n",
              "    60% {\n",
              "      border-color: transparent;\n",
              "      border-right-color: var(--fill-color);\n",
              "    }\n",
              "    80% {\n",
              "      border-color: transparent;\n",
              "      border-right-color: var(--fill-color);\n",
              "      border-bottom-color: var(--fill-color);\n",
              "    }\n",
              "    90% {\n",
              "      border-color: transparent;\n",
              "      border-bottom-color: var(--fill-color);\n",
              "    }\n",
              "  }\n",
              "</style>\n",
              "\n",
              "  <script>\n",
              "    async function quickchart(key) {\n",
              "      const quickchartButtonEl =\n",
              "        document.querySelector('#' + key + ' button');\n",
              "      quickchartButtonEl.disabled = true;  // To prevent multiple clicks.\n",
              "      quickchartButtonEl.classList.add('colab-df-spinner');\n",
              "      try {\n",
              "        const charts = await google.colab.kernel.invokeFunction(\n",
              "            'suggestCharts', [key], {});\n",
              "      } catch (error) {\n",
              "        console.error('Error during call to suggestCharts:', error);\n",
              "      }\n",
              "      quickchartButtonEl.classList.remove('colab-df-spinner');\n",
              "      quickchartButtonEl.classList.add('colab-df-quickchart-complete');\n",
              "    }\n",
              "    (() => {\n",
              "      let quickchartButtonEl =\n",
              "        document.querySelector('#df-39c89b30-7185-4139-988b-897f41f4c2b5 button');\n",
              "      quickchartButtonEl.style.display =\n",
              "        google.colab.kernel.accessAllowed ? 'block' : 'none';\n",
              "    })();\n",
              "  </script>\n",
              "</div>\n",
              "\n",
              "    </div>\n",
              "  </div>\n"
            ],
            "application/vnd.google.colaboratory.intrinsic+json": {
              "type": "dataframe",
              "variable_name": "df"
            }
          },
          "metadata": {},
          "execution_count": 3
        }
      ]
    },
    {
      "cell_type": "code",
      "source": [
        "df.isnull().sum()"
      ],
      "metadata": {
        "colab": {
          "base_uri": "https://localhost:8080/"
        },
        "id": "GuDcDHVEIZG_",
        "outputId": "30d1d7ef-b6ea-4765-aef1-8e8b35bcc968"
      },
      "execution_count": null,
      "outputs": [
        {
          "output_type": "execute_result",
          "data": {
            "text/plain": [
              "Sentence #    1000616\n",
              "Word               10\n",
              "POS                 0\n",
              "Tag                 0\n",
              "dtype: int64"
            ]
          },
          "metadata": {},
          "execution_count": 4
        }
      ]
    },
    {
      "cell_type": "code",
      "source": [
        "#there are too many NAN values is Sentences column\n",
        "print(len(df))"
      ],
      "metadata": {
        "colab": {
          "base_uri": "https://localhost:8080/"
        },
        "id": "yel4VKbXJUJw",
        "outputId": "191ab76d-ad71-4157-f263-f321606a7d4d"
      },
      "execution_count": null,
      "outputs": [
        {
          "output_type": "stream",
          "name": "stdout",
          "text": [
            "1048575\n"
          ]
        }
      ]
    },
    {
      "cell_type": "code",
      "source": [
        "#dropping NAN values isn't an option we can propogate the previous values\n",
        "df['Sentence #']=df['Sentence #'].ffill()"
      ],
      "metadata": {
        "id": "1I-AioDIPGVf"
      },
      "execution_count": null,
      "outputs": []
    },
    {
      "cell_type": "code",
      "source": [
        "df.isnull().sum()"
      ],
      "metadata": {
        "colab": {
          "base_uri": "https://localhost:8080/"
        },
        "id": "de9EMJJhPXlz",
        "outputId": "686c6d71-5579-403b-b054-9fa3ae92f693"
      },
      "execution_count": null,
      "outputs": [
        {
          "output_type": "execute_result",
          "data": {
            "text/plain": [
              "Sentence #     0\n",
              "Word          10\n",
              "POS            0\n",
              "Tag            0\n",
              "dtype: int64"
            ]
          },
          "metadata": {},
          "execution_count": 7
        }
      ]
    },
    {
      "cell_type": "code",
      "source": [
        "#renaming columns for ease of use\n",
        "df.rename(columns={'Sentence #':'Sent','Word':'tkn','Tag':'pos_ind'},inplace=True)"
      ],
      "metadata": {
        "id": "yHKHYNuRPftP"
      },
      "execution_count": null,
      "outputs": []
    },
    {
      "cell_type": "code",
      "source": [
        "df = df[['Sent', 'tkn', 'pos_ind']]"
      ],
      "metadata": {
        "id": "8Hp7cH6hP4Ib"
      },
      "execution_count": null,
      "outputs": []
    },
    {
      "cell_type": "code",
      "source": [
        "#case match values\n",
        "df['tkn'] = df['tkn'].str.lower()"
      ],
      "metadata": {
        "id": "HomN3kHFncZh"
      },
      "execution_count": null,
      "outputs": []
    },
    {
      "cell_type": "code",
      "source": [
        "df.head()"
      ],
      "metadata": {
        "colab": {
          "base_uri": "https://localhost:8080/",
          "height": 206
        },
        "id": "d8pgKi0XQRM_",
        "outputId": "c53a1b4d-13a1-412c-b660-f7d2b44a5c4b"
      },
      "execution_count": null,
      "outputs": [
        {
          "output_type": "execute_result",
          "data": {
            "text/plain": [
              "          Sent            tkn pos_ind\n",
              "0  Sentence: 1      thousands       O\n",
              "1  Sentence: 1             of       O\n",
              "2  Sentence: 1  demonstrators       O\n",
              "3  Sentence: 1           have       O\n",
              "4  Sentence: 1        marched       O"
            ],
            "text/html": [
              "\n",
              "  <div id=\"df-21c83d03-d62a-4135-bdb0-52dd14398f54\" class=\"colab-df-container\">\n",
              "    <div>\n",
              "<style scoped>\n",
              "    .dataframe tbody tr th:only-of-type {\n",
              "        vertical-align: middle;\n",
              "    }\n",
              "\n",
              "    .dataframe tbody tr th {\n",
              "        vertical-align: top;\n",
              "    }\n",
              "\n",
              "    .dataframe thead th {\n",
              "        text-align: right;\n",
              "    }\n",
              "</style>\n",
              "<table border=\"1\" class=\"dataframe\">\n",
              "  <thead>\n",
              "    <tr style=\"text-align: right;\">\n",
              "      <th></th>\n",
              "      <th>Sent</th>\n",
              "      <th>tkn</th>\n",
              "      <th>pos_ind</th>\n",
              "    </tr>\n",
              "  </thead>\n",
              "  <tbody>\n",
              "    <tr>\n",
              "      <th>0</th>\n",
              "      <td>Sentence: 1</td>\n",
              "      <td>thousands</td>\n",
              "      <td>O</td>\n",
              "    </tr>\n",
              "    <tr>\n",
              "      <th>1</th>\n",
              "      <td>Sentence: 1</td>\n",
              "      <td>of</td>\n",
              "      <td>O</td>\n",
              "    </tr>\n",
              "    <tr>\n",
              "      <th>2</th>\n",
              "      <td>Sentence: 1</td>\n",
              "      <td>demonstrators</td>\n",
              "      <td>O</td>\n",
              "    </tr>\n",
              "    <tr>\n",
              "      <th>3</th>\n",
              "      <td>Sentence: 1</td>\n",
              "      <td>have</td>\n",
              "      <td>O</td>\n",
              "    </tr>\n",
              "    <tr>\n",
              "      <th>4</th>\n",
              "      <td>Sentence: 1</td>\n",
              "      <td>marched</td>\n",
              "      <td>O</td>\n",
              "    </tr>\n",
              "  </tbody>\n",
              "</table>\n",
              "</div>\n",
              "    <div class=\"colab-df-buttons\">\n",
              "\n",
              "  <div class=\"colab-df-container\">\n",
              "    <button class=\"colab-df-convert\" onclick=\"convertToInteractive('df-21c83d03-d62a-4135-bdb0-52dd14398f54')\"\n",
              "            title=\"Convert this dataframe to an interactive table.\"\n",
              "            style=\"display:none;\">\n",
              "\n",
              "  <svg xmlns=\"http://www.w3.org/2000/svg\" height=\"24px\" viewBox=\"0 -960 960 960\">\n",
              "    <path d=\"M120-120v-720h720v720H120Zm60-500h600v-160H180v160Zm220 220h160v-160H400v160Zm0 220h160v-160H400v160ZM180-400h160v-160H180v160Zm440 0h160v-160H620v160ZM180-180h160v-160H180v160Zm440 0h160v-160H620v160Z\"/>\n",
              "  </svg>\n",
              "    </button>\n",
              "\n",
              "  <style>\n",
              "    .colab-df-container {\n",
              "      display:flex;\n",
              "      gap: 12px;\n",
              "    }\n",
              "\n",
              "    .colab-df-convert {\n",
              "      background-color: #E8F0FE;\n",
              "      border: none;\n",
              "      border-radius: 50%;\n",
              "      cursor: pointer;\n",
              "      display: none;\n",
              "      fill: #1967D2;\n",
              "      height: 32px;\n",
              "      padding: 0 0 0 0;\n",
              "      width: 32px;\n",
              "    }\n",
              "\n",
              "    .colab-df-convert:hover {\n",
              "      background-color: #E2EBFA;\n",
              "      box-shadow: 0px 1px 2px rgba(60, 64, 67, 0.3), 0px 1px 3px 1px rgba(60, 64, 67, 0.15);\n",
              "      fill: #174EA6;\n",
              "    }\n",
              "\n",
              "    .colab-df-buttons div {\n",
              "      margin-bottom: 4px;\n",
              "    }\n",
              "\n",
              "    [theme=dark] .colab-df-convert {\n",
              "      background-color: #3B4455;\n",
              "      fill: #D2E3FC;\n",
              "    }\n",
              "\n",
              "    [theme=dark] .colab-df-convert:hover {\n",
              "      background-color: #434B5C;\n",
              "      box-shadow: 0px 1px 3px 1px rgba(0, 0, 0, 0.15);\n",
              "      filter: drop-shadow(0px 1px 2px rgba(0, 0, 0, 0.3));\n",
              "      fill: #FFFFFF;\n",
              "    }\n",
              "  </style>\n",
              "\n",
              "    <script>\n",
              "      const buttonEl =\n",
              "        document.querySelector('#df-21c83d03-d62a-4135-bdb0-52dd14398f54 button.colab-df-convert');\n",
              "      buttonEl.style.display =\n",
              "        google.colab.kernel.accessAllowed ? 'block' : 'none';\n",
              "\n",
              "      async function convertToInteractive(key) {\n",
              "        const element = document.querySelector('#df-21c83d03-d62a-4135-bdb0-52dd14398f54');\n",
              "        const dataTable =\n",
              "          await google.colab.kernel.invokeFunction('convertToInteractive',\n",
              "                                                    [key], {});\n",
              "        if (!dataTable) return;\n",
              "\n",
              "        const docLinkHtml = 'Like what you see? Visit the ' +\n",
              "          '<a target=\"_blank\" href=https://colab.research.google.com/notebooks/data_table.ipynb>data table notebook</a>'\n",
              "          + ' to learn more about interactive tables.';\n",
              "        element.innerHTML = '';\n",
              "        dataTable['output_type'] = 'display_data';\n",
              "        await google.colab.output.renderOutput(dataTable, element);\n",
              "        const docLink = document.createElement('div');\n",
              "        docLink.innerHTML = docLinkHtml;\n",
              "        element.appendChild(docLink);\n",
              "      }\n",
              "    </script>\n",
              "  </div>\n",
              "\n",
              "\n",
              "<div id=\"df-69d64d44-e1f3-4f83-92ff-408edbf268ac\">\n",
              "  <button class=\"colab-df-quickchart\" onclick=\"quickchart('df-69d64d44-e1f3-4f83-92ff-408edbf268ac')\"\n",
              "            title=\"Suggest charts\"\n",
              "            style=\"display:none;\">\n",
              "\n",
              "<svg xmlns=\"http://www.w3.org/2000/svg\" height=\"24px\"viewBox=\"0 0 24 24\"\n",
              "     width=\"24px\">\n",
              "    <g>\n",
              "        <path d=\"M19 3H5c-1.1 0-2 .9-2 2v14c0 1.1.9 2 2 2h14c1.1 0 2-.9 2-2V5c0-1.1-.9-2-2-2zM9 17H7v-7h2v7zm4 0h-2V7h2v10zm4 0h-2v-4h2v4z\"/>\n",
              "    </g>\n",
              "</svg>\n",
              "  </button>\n",
              "\n",
              "<style>\n",
              "  .colab-df-quickchart {\n",
              "      --bg-color: #E8F0FE;\n",
              "      --fill-color: #1967D2;\n",
              "      --hover-bg-color: #E2EBFA;\n",
              "      --hover-fill-color: #174EA6;\n",
              "      --disabled-fill-color: #AAA;\n",
              "      --disabled-bg-color: #DDD;\n",
              "  }\n",
              "\n",
              "  [theme=dark] .colab-df-quickchart {\n",
              "      --bg-color: #3B4455;\n",
              "      --fill-color: #D2E3FC;\n",
              "      --hover-bg-color: #434B5C;\n",
              "      --hover-fill-color: #FFFFFF;\n",
              "      --disabled-bg-color: #3B4455;\n",
              "      --disabled-fill-color: #666;\n",
              "  }\n",
              "\n",
              "  .colab-df-quickchart {\n",
              "    background-color: var(--bg-color);\n",
              "    border: none;\n",
              "    border-radius: 50%;\n",
              "    cursor: pointer;\n",
              "    display: none;\n",
              "    fill: var(--fill-color);\n",
              "    height: 32px;\n",
              "    padding: 0;\n",
              "    width: 32px;\n",
              "  }\n",
              "\n",
              "  .colab-df-quickchart:hover {\n",
              "    background-color: var(--hover-bg-color);\n",
              "    box-shadow: 0 1px 2px rgba(60, 64, 67, 0.3), 0 1px 3px 1px rgba(60, 64, 67, 0.15);\n",
              "    fill: var(--button-hover-fill-color);\n",
              "  }\n",
              "\n",
              "  .colab-df-quickchart-complete:disabled,\n",
              "  .colab-df-quickchart-complete:disabled:hover {\n",
              "    background-color: var(--disabled-bg-color);\n",
              "    fill: var(--disabled-fill-color);\n",
              "    box-shadow: none;\n",
              "  }\n",
              "\n",
              "  .colab-df-spinner {\n",
              "    border: 2px solid var(--fill-color);\n",
              "    border-color: transparent;\n",
              "    border-bottom-color: var(--fill-color);\n",
              "    animation:\n",
              "      spin 1s steps(1) infinite;\n",
              "  }\n",
              "\n",
              "  @keyframes spin {\n",
              "    0% {\n",
              "      border-color: transparent;\n",
              "      border-bottom-color: var(--fill-color);\n",
              "      border-left-color: var(--fill-color);\n",
              "    }\n",
              "    20% {\n",
              "      border-color: transparent;\n",
              "      border-left-color: var(--fill-color);\n",
              "      border-top-color: var(--fill-color);\n",
              "    }\n",
              "    30% {\n",
              "      border-color: transparent;\n",
              "      border-left-color: var(--fill-color);\n",
              "      border-top-color: var(--fill-color);\n",
              "      border-right-color: var(--fill-color);\n",
              "    }\n",
              "    40% {\n",
              "      border-color: transparent;\n",
              "      border-right-color: var(--fill-color);\n",
              "      border-top-color: var(--fill-color);\n",
              "    }\n",
              "    60% {\n",
              "      border-color: transparent;\n",
              "      border-right-color: var(--fill-color);\n",
              "    }\n",
              "    80% {\n",
              "      border-color: transparent;\n",
              "      border-right-color: var(--fill-color);\n",
              "      border-bottom-color: var(--fill-color);\n",
              "    }\n",
              "    90% {\n",
              "      border-color: transparent;\n",
              "      border-bottom-color: var(--fill-color);\n",
              "    }\n",
              "  }\n",
              "</style>\n",
              "\n",
              "  <script>\n",
              "    async function quickchart(key) {\n",
              "      const quickchartButtonEl =\n",
              "        document.querySelector('#' + key + ' button');\n",
              "      quickchartButtonEl.disabled = true;  // To prevent multiple clicks.\n",
              "      quickchartButtonEl.classList.add('colab-df-spinner');\n",
              "      try {\n",
              "        const charts = await google.colab.kernel.invokeFunction(\n",
              "            'suggestCharts', [key], {});\n",
              "      } catch (error) {\n",
              "        console.error('Error during call to suggestCharts:', error);\n",
              "      }\n",
              "      quickchartButtonEl.classList.remove('colab-df-spinner');\n",
              "      quickchartButtonEl.classList.add('colab-df-quickchart-complete');\n",
              "    }\n",
              "    (() => {\n",
              "      let quickchartButtonEl =\n",
              "        document.querySelector('#df-69d64d44-e1f3-4f83-92ff-408edbf268ac button');\n",
              "      quickchartButtonEl.style.display =\n",
              "        google.colab.kernel.accessAllowed ? 'block' : 'none';\n",
              "    })();\n",
              "  </script>\n",
              "</div>\n",
              "\n",
              "    </div>\n",
              "  </div>\n"
            ],
            "application/vnd.google.colaboratory.intrinsic+json": {
              "type": "dataframe",
              "variable_name": "df"
            }
          },
          "metadata": {},
          "execution_count": 11
        }
      ]
    },
    {
      "cell_type": "code",
      "source": [
        "pip install gensim"
      ],
      "metadata": {
        "colab": {
          "base_uri": "https://localhost:8080/"
        },
        "id": "wonxMp3yQlqv",
        "outputId": "733a7533-1567-4a03-d171-57a37d15d873"
      },
      "execution_count": null,
      "outputs": [
        {
          "output_type": "stream",
          "name": "stdout",
          "text": [
            "Requirement already satisfied: gensim in /usr/local/lib/python3.10/dist-packages (4.3.2)\n",
            "Requirement already satisfied: numpy>=1.18.5 in /usr/local/lib/python3.10/dist-packages (from gensim) (1.25.2)\n",
            "Requirement already satisfied: scipy>=1.7.0 in /usr/local/lib/python3.10/dist-packages (from gensim) (1.11.4)\n",
            "Requirement already satisfied: smart-open>=1.8.1 in /usr/local/lib/python3.10/dist-packages (from gensim) (6.4.0)\n"
          ]
        }
      ]
    },
    {
      "cell_type": "code",
      "source": [
        "#Group a DataFrame by the 'Sentence' column and create a list of lists,\n",
        "#where each inner list represents a sentence and contains tuples of tokens and their respective part-of-speech tags.\n",
        "sentence_groups = df.groupby('Sent')\n",
        "\n",
        "sentence_all = []\n",
        "for _, group in sentence_groups:\n",
        "    sentence_tokens_pos = list(zip(group['tkn'], group['pos_ind']))\n",
        "    sentence_all.append(sentence_tokens_pos)\n"
      ],
      "metadata": {
        "id": "DsS7R6ehSmyF"
      },
      "execution_count": null,
      "outputs": []
    },
    {
      "cell_type": "code",
      "source": [
        "print(sentence_all[0])"
      ],
      "metadata": {
        "colab": {
          "base_uri": "https://localhost:8080/"
        },
        "id": "5n3dPQv4VENY",
        "outputId": "be38c2a1-65fa-4561-88d2-b71e9565f2ec"
      },
      "execution_count": null,
      "outputs": [
        {
          "output_type": "stream",
          "name": "stdout",
          "text": [
            "[('thousands', 'O'), ('of', 'O'), ('demonstrators', 'O'), ('have', 'O'), ('marched', 'O'), ('through', 'O'), ('london', 'B-geo'), ('to', 'O'), ('protest', 'O'), ('the', 'O'), ('war', 'O'), ('in', 'O'), ('iraq', 'B-geo'), ('and', 'O'), ('demand', 'O'), ('the', 'O'), ('withdrawal', 'O'), ('of', 'O'), ('british', 'B-gpe'), ('troops', 'O'), ('from', 'O'), ('that', 'O'), ('country', 'O'), ('.', 'O')]\n"
          ]
        }
      ]
    },
    {
      "cell_type": "code",
      "source": [
        "import tensorflow as tf"
      ],
      "metadata": {
        "id": "fi3IbQWdwcpi"
      },
      "execution_count": null,
      "outputs": []
    },
    {
      "cell_type": "code",
      "source": [
        "print(tf.test.is_gpu_available())"
      ],
      "metadata": {
        "colab": {
          "base_uri": "https://localhost:8080/"
        },
        "id": "tBkXvQssWUy3",
        "outputId": "31c01869-3e48-40fa-9e77-69f35b170f50"
      },
      "execution_count": null,
      "outputs": [
        {
          "output_type": "stream",
          "name": "stderr",
          "text": [
            "WARNING:tensorflow:From <ipython-input-16-ae932be897c3>:1: is_gpu_available (from tensorflow.python.framework.test_util) is deprecated and will be removed in a future version.\n",
            "Instructions for updating:\n",
            "Use `tf.config.list_physical_devices('GPU')` instead.\n"
          ]
        },
        {
          "output_type": "stream",
          "name": "stdout",
          "text": [
            "True\n"
          ]
        }
      ]
    },
    {
      "cell_type": "code",
      "source": [
        "import tensorflow as tf\n",
        "\n",
        "# Set hyperparameters based on GPU availability\n",
        "BATCH_SIZE = 512 if tf.test.is_gpu_available() else 32\n",
        "EPOCHS = 5\n",
        "MAX_LEN = 75\n",
        "EMBEDDING = 40 if tf.test.is_gpu_available() else 20"
      ],
      "metadata": {
        "id": "LLlXmMxMVeQA"
      },
      "execution_count": null,
      "outputs": []
    },
    {
      "cell_type": "code",
      "source": [
        "words = list(set(df['tkn'].values))\n",
        "tags = list(set(df[\"pos_ind\"].values))"
      ],
      "metadata": {
        "id": "qlIAj7hNXtNK"
      },
      "execution_count": null,
      "outputs": []
    },
    {
      "cell_type": "code",
      "source": [
        "word2idx = {w: i + 2 for i, w in enumerate(words)}\n",
        "word2idx.update({\"UNK\": 1, \"PAD\": 0})\n",
        "\n",
        "tag2idx = {t: i+1 for i, t in enumerate(tags)}\n",
        "tag2idx[\"PAD\"] = 0"
      ],
      "metadata": {
        "id": "0-jsJaisZD-A"
      },
      "execution_count": null,
      "outputs": []
    },
    {
      "cell_type": "code",
      "source": [
        "hits, misses = 0, 0\n",
        "embedding_dim = 300"
      ],
      "metadata": {
        "id": "XPjQMaaSZqnT"
      },
      "execution_count": null,
      "outputs": []
    },
    {
      "cell_type": "code",
      "source": [
        "import numpy as np\n",
        "\n",
        "embedding_matrix = np.zeros((len(word2idx), embedding_dim))\n",
        "#print(len(embedding_matrix))\n",
        "#print(word2idx)\n",
        "for word, i in zip(word2idx.keys(), word2idx.values()):\n",
        "    try:\n",
        "        embedding_vector = model[word]\n",
        "        embedding_matrix[i] = embedding_vector\n",
        "        hits += 1\n",
        "    except Exception:\n",
        "        misses += 1\n",
        "        pass\n",
        "#print(hits)"
      ],
      "metadata": {
        "id": "YbUzYSmSZ1tu"
      },
      "execution_count": null,
      "outputs": []
    },
    {
      "cell_type": "code",
      "source": [
        "pip install keras_preprocessing"
      ],
      "metadata": {
        "colab": {
          "base_uri": "https://localhost:8080/"
        },
        "id": "cpVhOj-cqY4m",
        "outputId": "e4d66b64-6f4c-4271-d3f6-5e1b8647496f"
      },
      "execution_count": null,
      "outputs": [
        {
          "output_type": "stream",
          "name": "stdout",
          "text": [
            "Collecting keras_preprocessing\n",
            "  Downloading Keras_Preprocessing-1.1.2-py2.py3-none-any.whl (42 kB)\n",
            "\u001b[2K     \u001b[90m━━━━━━━━━━━━━━━━━━━━━━━━━━━━━━━━━━━━━━━━\u001b[0m \u001b[32m42.6/42.6 kB\u001b[0m \u001b[31m380.4 kB/s\u001b[0m eta \u001b[36m0:00:00\u001b[0m\n",
            "\u001b[?25hRequirement already satisfied: numpy>=1.9.1 in /usr/local/lib/python3.10/dist-packages (from keras_preprocessing) (1.25.2)\n",
            "Requirement already satisfied: six>=1.9.0 in /usr/local/lib/python3.10/dist-packages (from keras_preprocessing) (1.16.0)\n",
            "Installing collected packages: keras_preprocessing\n",
            "Successfully installed keras_preprocessing-1.1.2\n"
          ]
        }
      ]
    },
    {
      "cell_type": "code",
      "source": [
        "from keras_preprocessing.sequence import pad_sequences\n",
        "from keras.utils import to_categorical\n",
        "from sklearn.model_selection import train_test_split"
      ],
      "metadata": {
        "id": "40izibdLqShl"
      },
      "execution_count": null,
      "outputs": []
    },
    {
      "cell_type": "code",
      "source": [
        "X = [[word2idx.get(w[0], 1) for w in s] for s in sentence_all]\n",
        "X = pad_sequences(maxlen=MAX_LEN, sequences=X, padding=\"post\", value=0)\n",
        "\n",
        "y = [[tag2idx[w[1]] for w in s] for s in sentence_all]\n",
        "y = pad_sequences(maxlen=MAX_LEN, sequences=y, padding=\"post\", value=0)\n",
        "y = [to_categorical(i, num_classes=len(tags)+1) for i in y]\n",
        "\n",
        "X_train, X_test, y_train, y_test = train_test_split(X, y, test_size=0.1)"
      ],
      "metadata": {
        "id": "0YaaLEwEaRTT"
      },
      "execution_count": null,
      "outputs": []
    },
    {
      "cell_type": "code",
      "source": [
        "y_train = np.array(y_train)\n",
        "y_test = np.array(y_test)"
      ],
      "metadata": {
        "id": "Doyxxt2eqPj_"
      },
      "execution_count": null,
      "outputs": []
    },
    {
      "cell_type": "code",
      "source": [
        "!pip install tensorflow-addons"
      ],
      "metadata": {
        "colab": {
          "base_uri": "https://localhost:8080/"
        },
        "id": "UO-Ij_EwzQLP",
        "outputId": "9887bdb2-c741-47d7-d209-90e0e878c003"
      },
      "execution_count": null,
      "outputs": [
        {
          "output_type": "stream",
          "name": "stdout",
          "text": [
            "Requirement already satisfied: tensorflow-addons in /usr/local/lib/python3.10/dist-packages (0.23.0)\n",
            "Requirement already satisfied: packaging in /usr/local/lib/python3.10/dist-packages (from tensorflow-addons) (24.0)\n",
            "Requirement already satisfied: typeguard<3.0.0,>=2.7 in /usr/local/lib/python3.10/dist-packages (from tensorflow-addons) (2.13.3)\n"
          ]
        }
      ]
    },
    {
      "cell_type": "code",
      "source": [
        "from tensorflow.keras.models import Model\n",
        "from tensorflow.keras.layers import Input, LSTM, Embedding, Dense, TimeDistributed, Dropout, Bidirectional\n",
        "from tensorflow_addons.utils.types import FloatTensorLike, TensorLike\n",
        "from tensorflow_addons.layers import CRF\n",
        "from tensorflow_addons.losses import SigmoidFocalCrossEntropy\n",
        "from tensorflow.keras.optimizers import Adam\n",
        "from tensorflow.keras.metrics import Accuracy\n",
        "\n",
        "\n",
        "def build_model(max_len=75, input_dim=len(word2idx), embedding_dim=300):\n",
        "    # Model definition\n",
        "    input_layer = Input(shape=(max_len,))\n",
        "\n",
        "    # Get embeddings\n",
        "    embeddings = Embedding(\n",
        "        input_dim,\n",
        "        embedding_dim,\n",
        "        weights=[embedding_matrix],\n",
        "        input_length=max_len,\n",
        "        mask_zero=True,\n",
        "        trainable=True,\n",
        "        name='embedding_layer'\n",
        "    )(input_layer)\n",
        "\n",
        "    # variational biLSTM\n",
        "    output_sequences = Bidirectional(LSTM(units=50, return_sequences=True))(embeddings)\n",
        "    output_sequences = Bidirectional(LSTM(units=100, return_sequences=True))(output_sequences)\n",
        "    # Stacking\n",
        "    output_sequences = Bidirectional(LSTM(units=50, return_sequences=True))(output_sequences)\n",
        "\n",
        "    # Adding more non-linearity\n",
        "    dense_out = TimeDistributed(Dense(25, activation=\"relu\"))(output_sequences)\n",
        "    mask = Input(shape=(max_len,), dtype=tf.bool)\n",
        "    crf = CRF(18, name='crf')\n",
        "    predicted_sequence, potentials, sequence_length, crf_kernel = crf(dense_out)\n",
        "\n",
        "    model = Model(input_layer, potentials)\n",
        "    model.compile(\n",
        "        optimizer=Adam(learning_rate=0.001),  # Use Adam optimizer with default learning rate\n",
        "        loss=SigmoidFocalCrossEntropy()    )\n",
        "\n",
        "    return model\n",
        "\n",
        "model = build_model()"
      ],
      "metadata": {
        "id": "xi9sE98wRz_r"
      },
      "execution_count": null,
      "outputs": []
    },
    {
      "cell_type": "code",
      "source": [
        "save_model = tf.keras.callbacks.ModelCheckpoint(filepath='ner_crf.h5',\n",
        "  monitor='val_loss',\n",
        "  save_weights_only=True,\n",
        "  save_best_only=True,\n",
        "  verbose=1\n",
        ")\n",
        "\n",
        "# Early stopping\n",
        "es = tf.keras.callbacks.EarlyStopping(monitor='val_loss', verbose=1, patience=1)\n",
        "\n",
        "callbacks = [save_model, es]\n",
        "\n",
        "model.summary()"
      ],
      "metadata": {
        "colab": {
          "base_uri": "https://localhost:8080/"
        },
        "id": "6upN03CdzFvp",
        "outputId": "3a196a7c-d3d9-4822-ac7c-be171a71d93d"
      },
      "execution_count": null,
      "outputs": [
        {
          "output_type": "stream",
          "name": "stdout",
          "text": [
            "Model: \"model_13\"\n",
            "_________________________________________________________________\n",
            " Layer (type)                Output Shape              Param #   \n",
            "=================================================================\n",
            " input_19 (InputLayer)       [(None, 75)]              0         \n",
            "                                                                 \n",
            " embedding_layer (Embedding  (None, 75, 300)           9546000   \n",
            " )                                                               \n",
            "                                                                 \n",
            " bidirectional_39 (Bidirect  (None, 75, 100)           140400    \n",
            " ional)                                                          \n",
            "                                                                 \n",
            " bidirectional_40 (Bidirect  (None, 75, 200)           160800    \n",
            " ional)                                                          \n",
            "                                                                 \n",
            " bidirectional_41 (Bidirect  (None, 75, 100)           100400    \n",
            " ional)                                                          \n",
            "                                                                 \n",
            " time_distributed_13 (TimeD  (None, 75, 25)            2525      \n",
            " istributed)                                                     \n",
            "                                                                 \n",
            " crf (CRF)                   [(None, 75),              828       \n",
            "                              (None, 75, 18),                    \n",
            "                              (None,),                           \n",
            "                              (18, 18)]                          \n",
            "                                                                 \n",
            "=================================================================\n",
            "Total params: 9950953 (37.96 MB)\n",
            "Trainable params: 9950953 (37.96 MB)\n",
            "Non-trainable params: 0 (0.00 Byte)\n",
            "_________________________________________________________________\n"
          ]
        }
      ]
    },
    {
      "cell_type": "code",
      "source": [
        "history = model.fit(\n",
        "  X_train,\n",
        "  y_train,\n",
        "  batch_size=64,\n",
        "  epochs=2,\n",
        "  validation_data=(X_test, y_test),\n",
        "  callbacks=callbacks,\n",
        "  shuffle=True\n",
        ")"
      ],
      "metadata": {
        "colab": {
          "base_uri": "https://localhost:8080/"
        },
        "id": "-EzY3vC12-iH",
        "outputId": "1f2ed0c7-45a8-438b-aa58-22bb08eee4fa"
      },
      "execution_count": null,
      "outputs": [
        {
          "output_type": "stream",
          "name": "stdout",
          "text": [
            "Epoch 1/2\n"
          ]
        },
        {
          "output_type": "stream",
          "name": "stderr",
          "text": [
            "WARNING:tensorflow:Gradients do not exist for variables ['chain_kernel:0'] when minimizing the loss. If you're using `model.compile()`, did you forget to provide a `loss` argument?\n",
            "WARNING:tensorflow:Gradients do not exist for variables ['chain_kernel:0'] when minimizing the loss. If you're using `model.compile()`, did you forget to provide a `loss` argument?\n",
            "WARNING:tensorflow:Gradients do not exist for variables ['chain_kernel:0'] when minimizing the loss. If you're using `model.compile()`, did you forget to provide a `loss` argument?\n",
            "WARNING:tensorflow:Gradients do not exist for variables ['chain_kernel:0'] when minimizing the loss. If you're using `model.compile()`, did you forget to provide a `loss` argument?\n"
          ]
        },
        {
          "output_type": "stream",
          "name": "stdout",
          "text": [
            "675/675 [==============================] - ETA: 0s - loss: 0.3284\n",
            "Epoch 1: val_loss improved from inf to 0.08341, saving model to ner_crf.h5\n",
            "675/675 [==============================] - 82s 83ms/step - loss: 0.3284 - val_loss: 0.0834\n",
            "Epoch 2/2\n",
            "675/675 [==============================] - ETA: 0s - loss: 0.0373\n",
            "Epoch 2: val_loss improved from 0.08341 to 0.01768, saving model to ner_crf.h5\n",
            "675/675 [==============================] - 31s 46ms/step - loss: 0.0373 - val_loss: 0.0177\n"
          ]
        }
      ]
    },
    {
      "cell_type": "code",
      "source": [
        "from sklearn.metrics import classification_report, accuracy_score, confusion_matrix\n",
        "\n",
        "# Predicting labels\n",
        "y_pred = model.predict(X_test)\n",
        "\n",
        "# Convert predictions to labels\n",
        "y_pred_labels = np.argmax(y_pred, axis=-1)\n",
        "y_test_labels = np.argmax(y_test, axis=-1)\n",
        "\n",
        "# Flatten the labels and predictions for calculating token-level metrics\n",
        "y_pred_flat = y_pred_labels.flatten()\n",
        "y_test_flat = y_test_labels.flatten()\n",
        "\n",
        "# Token-level metrics\n",
        "print(\"Token-Level Metrics:\")\n",
        "print(\"Accuracy:\", accuracy_score(y_test_flat, y_pred_flat))\n",
        "# print(classification_report(y_test_flat, y_pred_flat))"
      ],
      "metadata": {
        "colab": {
          "base_uri": "https://localhost:8080/"
        },
        "id": "r9_SV_0DCR_E",
        "outputId": "b31e5de0-70f3-44f7-963d-d2c52a1a2fee"
      },
      "execution_count": null,
      "outputs": [
        {
          "output_type": "stream",
          "name": "stdout",
          "text": [
            "150/150 [==============================] - 10s 11ms/step\n",
            "Token-Level Metrics:\n",
            "Accuracy: 0.9825410063942174\n"
          ]
        }
      ]
    },
    {
      "cell_type": "code",
      "source": [
        "import matplotlib.pyplot as plt\n",
        "import seaborn as sns\n",
        "from sklearn.metrics import confusion_matrix\n",
        "\n",
        "# Calculate confusion matrix\n",
        "conf_matrix = confusion_matrix(y_test_flat, y_pred_flat)\n",
        "\n",
        "# Plot confusion matrix\n",
        "plt.figure(figsize=(10, 8))\n",
        "sns.heatmap(conf_matrix, annot=True, fmt=\"d\", cmap=\"Blues\", xticklabels=tags, yticklabels=tags)\n",
        "plt.title(\"Confusion Matrix\")\n",
        "plt.xlabel(\"Predicted Labels\")\n",
        "plt.ylabel(\"True Labels\")\n",
        "plt.show()"
      ],
      "metadata": {
        "id": "bfkYpPzwC3QB",
        "outputId": "41e96e32-c881-4fbe-9212-d80216296a22",
        "colab": {
          "base_uri": "https://localhost:8080/",
          "height": 745
        }
      },
      "execution_count": null,
      "outputs": [
        {
          "output_type": "display_data",
          "data": {
            "text/plain": [
              "<Figure size 1000x800 with 2 Axes>"
            ],
            "image/png": "[encoded data removed]"
          },
          "metadata": {}
        }
      ]
    },
    {
      "cell_type": "code",
      "source": [],
      "metadata": {
        "id": "KQoxcN7_C5sT"
      },
      "execution_count": null,
      "outputs": []
    }
  ]
}